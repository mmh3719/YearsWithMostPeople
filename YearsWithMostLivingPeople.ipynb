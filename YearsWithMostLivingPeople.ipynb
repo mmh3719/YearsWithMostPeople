{
 "cells": [
  {
   "cell_type": "code",
   "execution_count": 1,
   "metadata": {},
   "outputs": [
    {
     "data": {
      "text/plain": [
       "[[1969, 1991],\n",
       " [1951, 1984],\n",
       " [1985, 1997],\n",
       " [1933, 1973],\n",
       " [1913, 1984],\n",
       " [1945, 1968],\n",
       " [1967, 1971],\n",
       " [1985, 1987],\n",
       " [1992, 2000],\n",
       " [1979, 1996],\n",
       " [1937, 2000],\n",
       " [1922, 1941],\n",
       " [1997, 2000],\n",
       " [1963, 1966],\n",
       " [1972, 1998],\n",
       " [1985, 1995],\n",
       " [1987, 1988],\n",
       " [1982, 1982],\n",
       " [1983, 1988],\n",
       " [1960, 1988],\n",
       " [1993, 1998],\n",
       " [2000, 2000],\n",
       " [1973, 1986],\n",
       " [1904, 1909],\n",
       " [1931, 1985],\n",
       " [1970, 1975],\n",
       " [1930, 1974],\n",
       " [1936, 1980],\n",
       " [1952, 1990],\n",
       " [1970, 1988],\n",
       " [1949, 1977],\n",
       " [1912, 1954],\n",
       " [1991, 1998],\n",
       " [1913, 1994],\n",
       " [1956, 1984],\n",
       " [1983, 1996],\n",
       " [1923, 1923],\n",
       " [1901, 1952],\n",
       " [1911, 1978],\n",
       " [1915, 1921],\n",
       " [1912, 1987],\n",
       " [1932, 1992],\n",
       " [1984, 1996],\n",
       " [1975, 1995],\n",
       " [1909, 1953],\n",
       " [1931, 1996],\n",
       " [1953, 1963],\n",
       " [1957, 1958],\n",
       " [1949, 1997],\n",
       " [1962, 1987],\n",
       " [1904, 1940],\n",
       " [1981, 1983],\n",
       " [1993, 1994],\n",
       " [1972, 1984],\n",
       " [1930, 1934],\n",
       " [1946, 1964],\n",
       " [1913, 1937],\n",
       " [1934, 1939],\n",
       " [1980, 1994],\n",
       " [1911, 1966],\n",
       " [1967, 1983],\n",
       " [1923, 1970],\n",
       " [1947, 1982],\n",
       " [1923, 1964],\n",
       " [1954, 1960],\n",
       " [1911, 1995],\n",
       " [1977, 1978],\n",
       " [1937, 1963],\n",
       " [1958, 1964],\n",
       " [1936, 1936],\n",
       " [1928, 1980],\n",
       " [1992, 1999],\n",
       " [1902, 1972],\n",
       " [1995, 1997],\n",
       " [1928, 1992],\n",
       " [1987, 1995],\n",
       " [1902, 1907],\n",
       " [1920, 1971],\n",
       " [1976, 1982],\n",
       " [1934, 1936],\n",
       " [1904, 1966],\n",
       " [1965, 1980],\n",
       " [1935, 1957],\n",
       " [1989, 1998],\n",
       " [1920, 1929],\n",
       " [1937, 1993],\n",
       " [1976, 1996],\n",
       " [1925, 1947],\n",
       " [1989, 1989],\n",
       " [1958, 1984],\n",
       " [1983, 1996],\n",
       " [1973, 1995],\n",
       " [1956, 1992],\n",
       " [1960, 1989],\n",
       " [1929, 1950],\n",
       " [1915, 1936],\n",
       " [1927, 1942],\n",
       " [1952, 1955],\n",
       " [1902, 1928],\n",
       " [1990, 1990]]"
      ]
     },
     "execution_count": 1,
     "metadata": {},
     "output_type": "execute_result"
    }
   ],
   "source": [
    "import random as rand\n",
    "\n",
    "\n",
    "# Creation of a list of the birth and death years of a population\n",
    "people = []\n",
    "\n",
    "# Variable to hold the size of the population\n",
    "population_size = 100\n",
    "\n",
    "# Loop to pseudo-randomly generate birth and death years for the population\n",
    "for i in range(population_size):\n",
    "    birth = rand.randint(1900, 2000)    # Randomly select the birth year from 1900-2000\n",
    "    death = rand.randint(birth, 2000)   # Randomly choose the year they die from their birth year to 2000\n",
    "    people.append([birth, death])\n",
    "\n",
    "people # List of people with birth and death years shown below"
   ]
  },
  {
   "cell_type": "code",
   "execution_count": 2,
   "metadata": {},
   "outputs": [
    {
     "data": {
      "text/plain": [
       "[1963]"
      ]
     },
     "execution_count": 2,
     "metadata": {},
     "output_type": "execute_result"
    }
   ],
   "source": [
    "# Dictionary to store the number of people alive in a given year initialized at 0\n",
    "people_alive_by_year = {year: 0 for year in range(1900, 2001)}\n",
    "\n",
    "\n",
    "# Loop to count the number of people alive in a given year\n",
    "# Start by looping over the list of people\n",
    "for person in people:\n",
    "    for year in range(person[0], person[1]+1):  # For each year that person was alive\n",
    "        people_alive_by_year[year] += 1         # increase the count of people alive that year\n",
    "\n",
    "\n",
    "# Find the most people alive in a given year by taking the maximum of the counts\n",
    "most_people_alive = max(people_alive_by_year.values())\n",
    "\n",
    "\n",
    "# List of years with the most people alive\n",
    "years_with_most_people = [year for year in range(1900, 2001) if people_alive_by_year[year] == most_people_alive]\n",
    "\n",
    "\n",
    "years_with_most_people # Year(s) with most people alive shown below"
   ]
  },
  {
   "cell_type": "code",
   "execution_count": 4,
   "metadata": {},
   "outputs": [
    {
     "data": {
      "text/plain": [
       "<BarContainer object of 101 artists>"
      ]
     },
     "execution_count": 4,
     "metadata": {},
     "output_type": "execute_result"
    },
    {
     "data": {
      "image/png": "[encoded data removed]",
      "text/plain": [
       "<Figure size 432x288 with 1 Axes>"
      ]
     },
     "metadata": {},
     "output_type": "display_data"
    }
   ],
   "source": [
    "import matplotlib.pyplot as plt\n",
    "\n",
    "\n",
    "# Create a bar graph, shown below, with the number of people alive each year\n",
    "plt.bar(people_alive_by_year.keys(), people_alive_by_year.values())"
   ]
  }
 ],
 "metadata": {
  "kernelspec": {
   "display_name": "Python 3",
   "language": "python",
   "name": "python3"
  },
  "language_info": {
   "codemirror_mode": {
    "name": "ipython",
    "version": 3
   },
   "file_extension": ".py",
   "mimetype": "text/x-python",
   "name": "python",
   "nbconvert_exporter": "python",
   "pygments_lexer": "ipython3",
   "version": "3.6.5"
  }
 },
 "nbformat": 4,
 "nbformat_minor": 2
}
